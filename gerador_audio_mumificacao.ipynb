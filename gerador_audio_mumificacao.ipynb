{
 "cells": [
  {
   "cell_type": "markdown",
   "id": "d756663e",
   "metadata": {},
   "source": [
    "# 🎙️ Gerador de Áudio com ElevenLabs\n",
    "Este notebook gera arquivos de áudio em português brasileiro a partir de textos sobre o processo de mumificação no Antigo Egito usando a API da ElevenLabs e variáveis em `.env`."
   ]
  },
  {
   "cell_type": "code",
   "execution_count": null,
   "id": "b0c2b57d",
   "metadata": {},
   "outputs": [],
   "source": [
    "# ✅ Instalar biblioteca necessária\n",
    "!pip install python-dotenv requests"
   ]
  },
  {
   "cell_type": "code",
   "execution_count": null,
   "id": "e8a45c4f",
   "metadata": {},
   "outputs": [],
   "source": [
    "# ✅ Criar arquivo .env com chave e voz\n",
    "with open('.env', 'w') as f:\n",
    "    f.write('ELEVENLABS_API_KEY=sk_b128c0389bfbd0740bf5795597c426c1b18022491255c1fa\\n')\n",
    "    f.write('VOICE_ID_PT_BR_FEM=EXAVITQu4vr4xnSDxMaL\\n')"
   ]
  },
  {
   "cell_type": "code",
   "execution_count": null,
   "id": "faf1e7e7",
   "metadata": {},
   "outputs": [],
   "source": [
    "# ✅ Carregar variáveis do .env\n",
    "import os\n",
    "from dotenv import load_dotenv\n",
    "\n",
    "load_dotenv()\n",
    "\n",
    "ELEVENLABS_API_KEY = os.getenv(\"ELEVENLABS_API_KEY\")\n",
    "VOICE_ID_PT_BR_FEM = os.getenv(\"VOICE_ID_PT_BR_FEM\")\n",
    "\n",
    "print(\"🔐 Chave carregada:\", ELEVENLABS_API_KEY[:10] + \"...\")\n",
    "print(\"🗣️ Voice ID:\", VOICE_ID_PT_BR_FEM)"
   ]
  },
  {
   "cell_type": "code",
   "execution_count": null,
   "id": "88733580",
   "metadata": {},
   "outputs": [],
   "source": [
    "# ✅ Gerar os áudios com ElevenLabs\n",
    "import requests\n",
    "\n",
    "narrations = [\n",
    "    \"Você sabia que os antigos egípcios acreditavam que a vida continuava após a morte? Para garantir essa jornada ao além, eles desenvolveram um processo complexo e sagrado: a mumificação.\",\n",
    "    \"Tudo começava com a retirada dos órgãos internos. O cérebro era removido pelo nariz com um gancho de metal... já o coração, considerado a sede da alma, muitas vezes era deixado no corpo.\",\n",
    "    \"Depois, o corpo era coberto com natrão, um sal natural do deserto. Durante 40 dias, esse sal absorvia toda a umidade, preservando o corpo por séculos.\",\n",
    "    \"O corpo era então cuidadosamente envolto em faixas de linho. Entre elas, amuletos mágicos eram colocados para proteção espiritual.\",\n",
    "    \"Por fim, a múmia era colocada dentro de um sarcófago, com inscrições e desenhos que contavam sua história. Ela era então levada para o túmulo, onde começava sua jornada para a eternidade.\",\n",
    "    \"Para os egípcios, mumificar era mais que preservar o corpo: era garantir a imortalidade da alma. Um ritual que ecoa até hoje nas areias do tempo.\"\n",
    "]\n",
    "\n",
    "os.makedirs(\"audios\", exist_ok=True)\n",
    "\n",
    "for i, text in enumerate(narrations, 1):\n",
    "    url = f\"https://api.elevenlabs.io/v1/text-to-speech/{VOICE_ID_PT_BR_FEM}\"\n",
    "    headers = {\n",
    "        \"Accept\": \"audio/mpeg\",\n",
    "        \"xi-api-key\": ELEVENLABS_API_KEY,\n",
    "        \"Content-Type\": \"application/json\"\n",
    "    }\n",
    "    data = {\n",
    "        \"text\": text,\n",
    "        \"model_id\": \"eleven_multilingual_v2\",\n",
    "        \"voice_settings\": {\n",
    "            \"stability\": 0.5,\n",
    "            \"similarity_boost\": 0.75\n",
    "        }\n",
    "    }\n",
    "\n",
    "    response = requests.post(url, json=data, headers=headers)\n",
    "\n",
    "    if response.status_code == 200:\n",
    "        file_path = f\"audios/narracao_{i:02}.mp3\"\n",
    "        with open(file_path, \"wb\") as f:\n",
    "            f.write(response.content)\n",
    "        print(f\"✅ Áudio gerado: {file_path}\")\n",
    "    else:\n",
    "        print(f\"❌ Erro na narração {i}: {response.status_code} - {response.text}\")"
   ]
  }
 ],
 "metadata": {
  "kernelspec": {
   "display_name": "Python 3",
   "language": "python",
   "name": "python3"
  },
  "language_info": {
   "codemirror_mode": {
    "name": "ipython",
    "version": 3
   },
   "file_extension": ".py",
   "mimetype": "text/x-python",
   "name": "python",
   "nbconvert_exporter": "python",
   "pygments_lexer": "ipython3",
   "version": "3.12.10"
  }
 },
 "nbformat": 4,
 "nbformat_minor": 5
}
