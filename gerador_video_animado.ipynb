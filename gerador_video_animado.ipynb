{
 "cells": [
  {
   "cell_type": "markdown",
   "id": "a8529d56",
   "metadata": {},
   "source": [
    "# 🎥 Pipeline PIAPI — Geração de Vídeos Animados a partir de Imagens\n",
    "Este notebook usa o PIAPI para gerar vídeos com movimento e ação a partir de imagens estáticas com IA (ex: Runway ou Pika Labs)."
   ]
  },
  {
   "cell_type": "code",
   "execution_count": 1,
   "id": "9f2edace",
   "metadata": {},
   "outputs": [],
   "source": [
    "import os\n",
    "import json\n",
    "import requests\n",
    "from dotenv import load_dotenv\n",
    "\n",
    "# Carregar chave do .env\n",
    "load_dotenv()\n",
    "PIAPI_API_KEY = os.getenv(\"PIAPI_API_KEY\")\n",
    "\n",
    "if not PIAPI_API_KEY:\n",
    "    raise ValueError(\"A chave 'PIAPI_API_KEY' não foi encontrada no .env\")\n"
   ]
  },
  {
   "cell_type": "code",
   "execution_count": 2,
   "id": "ebefce95",
   "metadata": {},
   "outputs": [],
   "source": [
    "# Lista de arquivos de imagem locais\n",
    "imagens_local = [\n",
    "    \"https://img.theapi.app/mj/01b579a1-137f-488d-b7f2-03c894229375.png\"\n",
    "]\n",
    "\n",
    "# Prompts animados por cena\n",
    "prompts = [\n",
    "    \"Cinematic flyover of Egyptian pyramids at sunset, sand particles floating, wide angle, warm glow\"\n",
    "]\n"
   ]
  },
  {
   "cell_type": "code",
   "execution_count": 4,
   "id": "9f638aec",
   "metadata": {},
   "outputs": [
    {
     "name": "stdout",
     "output_type": "stream",
     "text": [
      "Enviando cena {'model': 'runway', 'task_type': 'video_gen_from_image', 'input': {'image_url': 'https://img.theapi.app/mj/01b579a1-137f-488d-b7f2-03c894229375.png', 'prompt': 'Cinematic flyover of Egyptian pyramids at sunset, sand particles floating, wide angle, warm glow', 'duration': 4}}\n",
      "response <Response [400]>\n",
      "❌ Erro na cena 01: 400 - {\"code\":400,\"data\":{\"task_id\":\"\",\"model\":\"\",\"task_type\":\"\",\"status\":\"\",\"config\":{\"service_mode\":\"\",\"webhook_config\":{\"endpoint\":\"\",\"secret\":\"\"}},\"input\":null,\"output\":null,\"meta\":null,\"detail\":null,\"logs\":null,\"error\":{\"code\":0,\"raw_message\":\"\",\"message\":\"\",\"detail\":null}},\"message\":\"invalid model: runway\"}\n"
     ]
    }
   ],
   "source": [
    "# Enviar requisições ao PIAPI\n",
    "api_url = \"https://api.piapi.ai/api/v1/task\"\n",
    "headers = {\n",
    "    \"x-api-key\": PIAPI_API_KEY,\n",
    "    \"Content-Type\": \"application/json\"\n",
    "}\n",
    "\n",
    "for idx, (imagem_file, prompt) in enumerate(zip(imagens_local, prompts), 1):\n",
    "    # Substitua este link por uma URL real da imagem hospedada em CDN/S3/etc\n",
    "    image_url = f\"{imagem_file}\"  # Substitua aqui!\n",
    "\n",
    "    payload = {\n",
    "        \"model\": \"runway\",\n",
    "        \"task_type\": \"video_gen_from_image\",\n",
    "        \"input\": {\n",
    "            \"image_url\": image_url,\n",
    "            \"prompt\": prompt,\n",
    "            \"duration\": 4\n",
    "        }\n",
    "    }\n",
    "\n",
    "    print(f\"Enviando cena {payload}\")\n",
    "\n",
    "    response = requests.post(api_url, headers=headers, json=payload)\n",
    "    print(f\"response {response}\")\n",
    "    \n",
    "    if response.status_code == 200:\n",
    "        task_id = response.json().get(\"id\")\n",
    "        print(f\"✅ Cena {idx:02} enviada com sucesso. Task ID: {task_id}\")\n",
    "    else:\n",
    "        print(f\"❌ Erro na cena {idx:02}: {response.status_code} - {response.text}\")\n"
   ]
  }
 ],
 "metadata": {
  "kernelspec": {
   "display_name": "Python 3",
   "language": "python",
   "name": "python3"
  },
  "language_info": {
   "codemirror_mode": {
    "name": "ipython",
    "version": 3
   },
   "file_extension": ".py",
   "mimetype": "text/x-python",
   "name": "python",
   "nbconvert_exporter": "python",
   "pygments_lexer": "ipython3",
   "version": "3.12.10"
  }
 },
 "nbformat": 4,
 "nbformat_minor": 5
}
